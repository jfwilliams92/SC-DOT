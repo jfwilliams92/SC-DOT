{
 "cells": [
  {
   "cell_type": "markdown",
   "metadata": {},
   "source": [
    "# SC DOT Data and the US Census - How has traffic in South Carolina changed?"
   ]
  },
  {
   "cell_type": "markdown",
   "metadata": {},
   "source": [
    "Reasons for looking at data"
   ]
  },
  {
   "cell_type": "markdown",
   "metadata": {},
   "source": [
    "Where the data came from "
   ]
  },
  {
   "cell_type": "markdown",
   "metadata": {},
   "source": [
    "What the data looks like "
   ]
  },
  {
   "cell_type": "code",
   "execution_count": 1,
   "metadata": {},
   "outputs": [
    {
     "name": "stdout",
     "output_type": "stream",
     "text": [
      "PyTables is not installed. No support for HDF output.\n"
     ]
    }
   ],
   "source": [
    "# import required libraries\n",
    "import pandas as pd\n",
    "import numpy as np\n",
    "from simpledbf import Dbf5\n",
    "import os"
   ]
  },
  {
   "cell_type": "code",
   "execution_count": 2,
   "metadata": {},
   "outputs": [
    {
     "data": {
      "text/plain": [
       "'/home/james/PYTHON/PythonProjects/Upstate/shp_files'"
      ]
     },
     "execution_count": 2,
     "metadata": {},
     "output_type": "execute_result"
    }
   ],
   "source": [
    "# change into the directory where the shp files live\n",
    "os.chdir(\"./shp_files\")\n",
    "# verify we're in the right place\n",
    "os.getcwd()"
   ]
  },
  {
   "cell_type": "code",
   "execution_count": 8,
   "metadata": {},
   "outputs": [],
   "source": [
    "# read GIS dbf data into dataframes, one file for each year between 2009 and 2018\n",
    "shp_dfs = {}\n",
    "for root, dirs, files in os.walk(os.getcwd()):\n",
    "    for file in files:\n",
    "        if file.endswith(\".dbf\"):\n",
    "            # print(file.split('.')[0])\n",
    "            dbf = Dbf5(os.path.join(root, file))\n",
    "            df = dbf.to_dataframe()\n",
    "            shp_dfs[file.split('.')[0]] = df"
   ]
  },
  {
   "cell_type": "code",
   "execution_count": 10,
   "metadata": {},
   "outputs": [],
   "source": [
    "# check if the columns in the dfs match - convert columns to sets and check set intersection\n",
    "col_sets = map(lambda x: set(x.columns), shp_dfs.values())"
   ]
  },
  {
   "cell_type": "code",
   "execution_count": 11,
   "metadata": {},
   "outputs": [],
   "source": [
    "# unpack the list of column sets into set.intersection, which returns common elements in set\n",
    "common_cols = set.intersection(*col_sets)"
   ]
  },
  {
   "cell_type": "code",
   "execution_count": 12,
   "metadata": {},
   "outputs": [
    {
     "data": {
      "text/plain": [
       "{'ID1'}"
      ]
     },
     "execution_count": 12,
     "metadata": {},
     "output_type": "execute_result"
    }
   ],
   "source": [
    "# check to see what's common between the dfs\n",
    "common_cols"
   ]
  },
  {
   "cell_type": "code",
   "execution_count": 13,
   "metadata": {},
   "outputs": [
    {
     "name": "stdout",
     "output_type": "stream",
     "text": [
      "Index(['CountyNumb', 'RouteTypeN', 'RouteType1', 'RouteNumbe', 'MeterMileP',\n",
      "       'BeginMileP', 'EndMilePoi', 'StationNum', 'Termini', 'FactoredAA',\n",
      "       'FactoredA1', 'MapLRS', 'Status1', 'ID1', 'RouteAuxil', 'CountyName',\n",
      "       'Long', 'Lat'],\n",
      "      dtype='object') 18\n",
      "Index(['Station_Nu', 'Route_LRS', 'County_ID', 'Route_Type', 'Route_Numb',\n",
      "       'Route_Auxi', 'Descriptio', 'Count', 'Year', 'ID1'],\n",
      "      dtype='object') 10\n",
      "Index(['STATION_NU', 'MILE_POINT', 'ROUTE_LRS', 'MAP_TYPE', 'LATITUDE',\n",
      "       'LONGITUDE', 'COUNTY_ID', 'ROUTE_TYPE', 'ROUTE_NUMB', 'ROUTE_AUX',\n",
      "       'COUNT', 'YEAR', 'DESCRIPTIO', 'ID1', 'GMRotation'],\n",
      "      dtype='object') 15\n",
      "Index(['CountyName', 'RouteTypeN', 'RouteNumbe', 'RouteAuxil', 'MeterMileP',\n",
      "       'BegiNMileP', 'EndMilePoi', 'StationNum', 'Termini', 'FactoredAA',\n",
      "       'FactoredA1', 'MapLRS', 'Status1', 'ID1', 'Latitude', 'Longitude'],\n",
      "      dtype='object') 16\n",
      "Index(['STATION', 'MILE_POINT', 'ROUTE_LRS', 'MAP_TYPE', 'ID1', 'LATITUDE',\n",
      "       'LONGITUDE', 'ATR_NUM', 'MAP', 'RouteNum', 'termini', 'Count', 'Year',\n",
      "       'County', 'RouteType', 'AUX', 'GMRotation'],\n",
      "      dtype='object') 17\n",
      "Index(['STATION', 'MILE_POINT', 'ROUTE_LRS', 'MAP_TYPE', 'ID1', 'LATITUDE',\n",
      "       'LONGITUDE', 'COUNTY_ID', 'ATR_NUM', 'County', 'Station_Nu',\n",
      "       'Route_Type', 'Route_Numb', 'AUX', 'Count', 'Year', 'Descriptio',\n",
      "       'GMRotation'],\n",
      "      dtype='object') 18\n",
      "Index(['Route_Type', 'Route_Numb', 'Route_Auxi', 'Meter_Mile', 'Begin_Mile',\n",
      "       'End_MilePo', 'Station_Nu', 'Termini', 'Factored_A', 'Factored_1',\n",
      "       'RouteLRS', 'ID1', 'County_Nam'],\n",
      "      dtype='object') 13\n",
      "Index(['STATION', 'MILE_POINT', 'ROUTE_LRS', 'MAP_TYPE', 'ID1', 'LATITUDE',\n",
      "       'LONGITUDE', 'COUNTY_ID', 'county', 'F2', 'station1', 'rtetype',\n",
      "       'rtenumb', 'rteaux', 'bmp', 'emp', 'termini', 'rtelrs', 'CONNN', 'aadt',\n",
      "       'aadtyr', 'GMRotation'],\n",
      "      dtype='object') 22\n",
      "Index(['STATION_NU', 'COUNT', 'DESCRIPTIO', 'YEAR', 'ROUTE_TYPE', 'ROUTE_NUMB',\n",
      "       'ROUTE_AUX', 'MILE_POINT', 'ROUTE_LRS', 'COUNTY_ID', 'MAP_TYPE',\n",
      "       'LATITUDE', 'LONGITUDE', 'ID1', 'GMRotation'],\n",
      "      dtype='object') 15\n",
      "Index(['STATION', 'MILE_POINT', 'ROUTE_LRS', 'MAP_TYPE', 'ID1', 'LATITUDE',\n",
      "       'LONGITUDE', 'CountyName', 'RouteType', 'rtenum', 'AUX', 'ATR_NUM',\n",
      "       'MAP', 'termini', 'Year', 'Count', 'ID2', 'GMRotation'],\n",
      "      dtype='object') 18\n"
     ]
    }
   ],
   "source": [
    "#uh oh! there's only 1 column common between all. Let's check to see what the actual columns are named and how many there are\n",
    "for df in shp_dfs.values():\n",
    "    print(df.columns, len(df.columns))"
   ]
  },
  {
   "cell_type": "code",
   "execution_count": 14,
   "metadata": {},
   "outputs": [],
   "source": [
    "# maybe we'll get better results if we do some simple string formatting first\n",
    "for df in shp_dfs.values():\n",
    "    df.columns = [c.replace('_', '').lower().strip() for c in df.columns]"
   ]
  },
  {
   "cell_type": "code",
   "execution_count": 16,
   "metadata": {},
   "outputs": [
    {
     "data": {
      "text/plain": [
       "{'id1'}"
      ]
     },
     "execution_count": 16,
     "metadata": {},
     "output_type": "execute_result"
    }
   ],
   "source": [
    "# check set intersection again\n",
    "col_sets = list(map(lambda x: set(x.columns), shp_dfs.values()))\n",
    "set.intersection(*col_sets)"
   ]
  },
  {
   "cell_type": "code",
   "execution_count": 110,
   "metadata": {},
   "outputs": [
    {
     "name": "stdout",
     "output_type": "stream",
     "text": [
      "2018 Index(['countynumb', 'routetypen', 'routetype1', 'routenumbe', 'metermilep',\n",
      "       'beginmilep', 'endmilepoi', 'stationnum', 'termini', 'factoredaa',\n",
      "       'factoreda1', 'maplrs', 'status1', 'id1', 'routeauxil', 'countyname',\n",
      "       'long', 'lat'],\n",
      "      dtype='object') 18\n",
      "2013 Index(['stationnu', 'routelrs', 'countyid', 'routetype', 'routenumb',\n",
      "       'routeauxi', 'descriptio', 'count', 'year', 'id1'],\n",
      "      dtype='object') 10\n",
      "2010 Index(['stationnu', 'milepoint', 'routelrs', 'maptype', 'latitude',\n",
      "       'longitude', 'countyid', 'routetype', 'routenumb', 'routeaux', 'count',\n",
      "       'year', 'descriptio', 'id1', 'gmrotation'],\n",
      "      dtype='object') 15\n",
      "2016 Index(['countyname', 'routetypen', 'routenumbe', 'routeauxil', 'metermilep',\n",
      "       'beginmilep', 'endmilepoi', 'stationnum', 'termini', 'factoredaa',\n",
      "       'factoreda1', 'maplrs', 'status1', 'id1', 'latitude', 'longitude'],\n",
      "      dtype='object') 16\n",
      "2015 Index(['station', 'milepoint', 'routelrs', 'maptype', 'id1', 'latitude',\n",
      "       'longitude', 'atrnum', 'map', 'routenum', 'termini', 'count', 'year',\n",
      "       'county', 'routetype', 'aux', 'gmrotation'],\n",
      "      dtype='object') 17\n",
      "2009 Index(['station', 'milepoint', 'routelrs', 'maptype', 'id1', 'latitude',\n",
      "       'longitude', 'countyid', 'atrnum', 'county', 'stationnu', 'routetype',\n",
      "       'routenumb', 'aux', 'count', 'year', 'descriptio', 'gmrotation'],\n",
      "      dtype='object') 18\n",
      "2017 Index(['routetype', 'routenumb', 'routeauxi', 'metermile', 'beginmile',\n",
      "       'endmilepo', 'stationnu', 'termini', 'factoreda', 'factored1',\n",
      "       'routelrs', 'id1', 'countynam'],\n",
      "      dtype='object') 13\n",
      "2012 Index(['station', 'milepoint', 'routelrs', 'maptype', 'id1', 'latitude',\n",
      "       'longitude', 'countyid', 'county', 'f2', 'station1', 'rtetype',\n",
      "       'rtenumb', 'rteaux', 'bmp', 'emp', 'termini', 'rtelrs', 'connn', 'aadt',\n",
      "       'aadtyr', 'gmrotation'],\n",
      "      dtype='object') 22\n",
      "2011 Index(['stationnu', 'count', 'descriptio', 'year', 'routetype', 'routenumb',\n",
      "       'routeaux', 'milepoint', 'routelrs', 'countyid', 'maptype', 'latitude',\n",
      "       'longitude', 'id1', 'gmrotation'],\n",
      "      dtype='object') 15\n",
      "2014 Index(['station', 'milepoint', 'routelrs', 'maptype', 'id1', 'latitude',\n",
      "       'longitude', 'countyname', 'routetype', 'rtenum', 'aux', 'atrnum',\n",
      "       'map', 'termini', 'year', 'count', 'id2', 'gmrotation'],\n",
      "      dtype='object') 18\n"
     ]
    }
   ],
   "source": [
    "for year, df in shp_dfs.items():\n",
    "    print(year, df.columns, len(df.columns))"
   ]
  },
  {
   "cell_type": "code",
   "execution_count": 274,
   "metadata": {},
   "outputs": [
    {
     "data": {
      "text/plain": [
       "{'station': 'station_id',\n",
       " 'stationnu': 'station_id',\n",
       " 'stationnum': 'station_id',\n",
       " 'latitude': 'latitude',\n",
       " 'lat': 'latitude',\n",
       " 'longitude': 'longitude',\n",
       " 'long': 'longitude',\n",
       " 'aadtyr': 'year',\n",
       " 'year': 'year',\n",
       " 'factored1': 'year',\n",
       " 'factoreda1': 'year',\n",
       " 'routelrs': 'route_identifier',\n",
       " 'maplrs': 'route_identifier',\n",
       " 'termini': 'route_leg_descrip',\n",
       " 'descriptio': 'route_leg_descrip',\n",
       " 'routetype': 'route_type_id',\n",
       " 'rtetype': 'route_type_id',\n",
       " 'routetypen': 'route_type_id',\n",
       " 'rtenum': 'route_number',\n",
       " 'rtenumb': 'route_number',\n",
       " 'routenumb': 'route_number',\n",
       " 'routenum': 'route_number',\n",
       " 'routenumbe': 'route_number',\n",
       " 'county': 'county_name',\n",
       " 'countyname': 'county_name',\n",
       " 'countynam': 'county_name',\n",
       " 'aadt': 'average_daily_traffic',\n",
       " 'factoreda': 'average_daily_traffic',\n",
       " 'count': 'average_daily_traffic',\n",
       " 'factoredaa': 'average_daily_traffic',\n",
       " 'id1': 'row_number'}"
      ]
     },
     "execution_count": 274,
     "metadata": {},
     "output_type": "execute_result"
    }
   ],
   "source": [
    "# dang. Still only 1 match. Time to do some brute force mapping.\n",
    "col_mapping_dict = {\n",
    "    **dict.fromkeys(['station', 'stationnu', 'stationnum'], 'station_id'),\n",
    "    **dict.fromkeys(['latitude', 'lat'], 'latitude'),\n",
    "    **dict.fromkeys(['longitude', 'long'], 'longitude'), \n",
    "    **dict.fromkeys(['aadtyr', 'year', 'factored1', 'factoreda1'], 'year'),\n",
    "    **dict.fromkeys(['routelrs', 'maplrs'], 'route_identifier'),\n",
    "    **dict.fromkeys(['termini', 'descriptio'], 'route_leg_descrip'),\n",
    "    # **dict.fromkeys(['beginmilep', 'beginmile'], 'route_leg_beginmile'),\n",
    "    # **dict.fromkeys(['endmilepo', 'endmilepoi'], 'route_leg_endmile'),\n",
    "    **dict.fromkeys(['routetype', 'rtetype', 'routetypen'], 'route_type_id'),   # has to be a numeric column as well, some collision here\n",
    "    **dict.fromkeys(['rtenum', 'rtenumb', 'routenumb', 'routenum', 'routenumbe'], 'route_number'),\n",
    "    **dict.fromkeys(['county', 'countyname', 'countynam'], 'county_name'),\n",
    "    # **dict.fromkeys(['countyid', 'countynumb'], 'county_id'),\n",
    "    **dict.fromkeys(['aadt', 'factoreda', 'count', 'factoredaa'], 'average_daily_traffic'),\n",
    "    **dict.fromkeys(['id1'], 'row_number')\n",
    "}\n",
    "col_mapping_dict"
   ]
  },
  {
   "cell_type": "code",
   "execution_count": 275,
   "metadata": {},
   "outputs": [],
   "source": [
    "# rename columns as per mapping dict\n",
    "shp_dfs_renamed = {year: df.rename(columns=col_mapping_dict) for year, df in shp_dfs.items()}\n",
    "# drop columns not mapped\n",
    "shp_dfs_renamed = {year: df.drop([c for c in df.columns if c not in col_mapping_dict.values()], axis=1) for year, df in shp_dfs_renamed.items()}\n",
    "# drop any duplicated columns\n",
    "shp_dfs_renamed = {year: df.loc[:, ~df.columns.duplicated()] for year, df in shp_dfs_renamed.items()}"
   ]
  },
  {
   "cell_type": "code",
   "execution_count": 276,
   "metadata": {},
   "outputs": [],
   "source": [
    "# rename some columns that don't match\n",
    "shp_dfs_renamed['2010'].rename(columns={'route_type_id':'route_type'}, inplace=True)\n",
    "shp_dfs_renamed['2016'].rename(columns={'route_type_id':'route_type'}, inplace=True)\n",
    "shp_dfs_renamed['2015'].rename(columns={'route_type_id':'route_type'}, inplace=True)\n",
    "shp_dfs_renamed['2017'].rename(columns={'route_type_id':'route_type'}, inplace=True)\n",
    "shp_dfs_renamed['2011'].rename(columns={'route_type_id':'route_type'}, inplace=True)\n",
    "shp_dfs_renamed['2014'].rename(columns={'route_type_id':'route_type'}, inplace=True)\n",
    "shp_dfs_renamed['2017'].rename(columns={'county_name':'county_id'}, inplace=True)\n",
    "shp_dfs_renamed['2009'].drop('county_name', axis=1, inplace=True)\n",
    "shp_dfs_renamed['2012'].drop('county_name', axis=1, inplace=True)"
   ]
  },
  {
   "cell_type": "code",
   "execution_count": 277,
   "metadata": {},
   "outputs": [
    {
     "name": "stdout",
     "output_type": "stream",
     "text": [
      "2018 \n",
      " station_id  route_identifier  route_number\n",
      "101.0       32020000100N      1.0             2\n",
      "133.0       28020000100N      1.0             2\n",
      "173.0       10020007800E      78.0            2\n",
      "192.0       30040006600E      66.0            3\n",
      "            36040006600E      66.0            2\n",
      "278.0       30090028900N      289.0           2\n",
      "279.0       15070003600E      36.0            2\n",
      "306.0       24070005000E      50.0            2\n",
      "321.0       21070013200E      132.0           2\n",
      "411.0       14070010400E      104.0           2\n",
      "413.0       02070004600E      46.0            2\n",
      "415.0       13090015900N      159.0           2\n",
      "426.0       10070004600E      46.0            2\n",
      "429.0       10070010300N      103.0           2\n",
      "463.0       39070030400E      304.0           2\n",
      "492.0       16070016400E      164.0           2\n",
      "495.0       02070018200E      182.0           2\n",
      "498.0       04070009800E      98.0            2\n",
      "509.0       02070030900N      309.0           2\n",
      "551.0       42090056300N      563.0           2\n",
      "557.0       39070035400E      354.0           2\n",
      "            39090035400E      354.0           2\n",
      "584.0       43070006900N      69.0            2\n",
      "713.0       04090117900N      1179.0          2\n",
      "850.0       42070059000E      590.0           2\n",
      "897.0       38070025800E      258.0           2\n",
      "911.0       42090098600E      986.0           2\n",
      "969.0       42090019100N      191.0           2\n",
      "2419.0      21010009500N      95.0            2\n",
      "dtype: int64\n",
      "2013 \n",
      " station_id  route_identifier  route_number\n",
      "101.0       13020000100N      1.0             2\n",
      "113.0       36070064200E      642.0           2\n",
      "127.0       46070011800E      118.0           2\n",
      "133.0       28020000100N      1.0             2\n",
      "160.0       32070016200E      162.0           2\n",
      "                                             ..\n",
      "956.0       42070103800E      1038.0          2\n",
      "969.0       42090019100N      191.0           3\n",
      "989.0       42090048900N      489.0           2\n",
      "1037.0      42090098900N      989.0           2\n",
      "2419.0      21010009500N      95.0            2\n",
      "Length: 100, dtype: int64\n",
      "2010 \n",
      " station_id  route_identifier  route_number\n",
      "169.0       04040002400E      24.0            2\n",
      "170.0       40020007600E      76.0            2\n",
      "329.0       22070039100N      391.0           2\n",
      "331.0       11070020900N      209.0           2\n",
      "            22070039100N      391.0           2\n",
      "333.0       22070039100N      878.0           2\n",
      "2601.0      02010052000E      520.0           2\n",
      "dtype: int64\n",
      "2016 \n",
      " station_id  route_identifier  route_number\n",
      "101.0       13020000100N      1.0             2\n",
      "            32020000100N      1.0             2\n",
      "113.0       36070064200E      642.0           2\n",
      "133.0       28020000100N      1.0             2\n",
      "173.0       10020007800E      78.0            2\n",
      "189.0       30040006600E      66.0            3\n",
      "            36040006600E      66.0            2\n",
      "277.0       30070028900N      289.0           2\n",
      "279.0       15070003600E      36.0            2\n",
      "296.0       02090010500N      105.0           2\n",
      "329.0       06070016800E      168.0           2\n",
      "331.0       35070006600E      66.0            2\n",
      "359.0       04070014100N      141.0           2\n",
      "411.0       14070010400E      104.0           2\n",
      "413.0       02070004600E      46.0            2\n",
      "415.0       13090015900N      159.0           2\n",
      "423.0       40070172200E      1722.0          2\n",
      "426.0       10070004600E      46.0            2\n",
      "429.0       10070010300N      103.0           2\n",
      "437.0       02070055900N      559.0           2\n",
      "463.0       39070030400E      304.0           2\n",
      "494.0       30070049900N      499.0           2\n",
      "495.0       02070018200E      182.0           2\n",
      "498.0       04070009800E      98.0            2\n",
      "551.0       42090056300N      563.0           2\n",
      "557.0       39070035400E      354.0           2\n",
      "            39090035400E      354.0           2\n",
      "584.0       43070006900N      69.0            2\n",
      "601.0       10070066900N      669.0           2\n",
      "625.0       38070009200E      92.0            2\n",
      "678.0       23090031100N      311.0           3\n",
      "713.0       04090117900N      1179.0          2\n",
      "815.0       23070196700N      1967.0          2\n",
      "850.0       42070059000E      590.0           2\n",
      "897.0       38070025800E      258.0           2\n",
      "911.0       42090098600E      986.0           2\n",
      "969.0       42090019100N      191.0           2\n",
      "2419.0      21010009500N      95.0            2\n",
      "dtype: int64\n",
      "2015 \n",
      " Series([], dtype: int64)\n",
      "2009 \n",
      " station_id  route_identifier  route_number\n",
      "331.0       11070020900N      209.0           2\n",
      "dtype: int64\n",
      "2017 \n",
      " station_id  route_identifier  route_number\n",
      "133.0       28020000100N      1.0             2\n",
      "173.0       10020007800E      78.0            2\n",
      "192.0       30040006600E      66.0            3\n",
      "            36040006600E      66.0            2\n",
      "277.0       30070028900N      289.0           2\n",
      "279.0       15070003600E      36.0            2\n",
      "321.0       21070013200E      132.0           2\n",
      "411.0       14070010400E      104.0           2\n",
      "413.0       02070004600E      46.0            2\n",
      "429.0       10070010300N      103.0           2\n",
      "463.0       39070030400E      304.0           2\n",
      "495.0       02070018200E      182.0           2\n",
      "551.0       42090056300N      563.0           2\n",
      "557.0       39090035400E      354.0           2\n",
      "601.0       10070066900N      669.0           2\n",
      "850.0       42070059000E      590.0           2\n",
      "897.0       38070025800E      258.0           2\n",
      "969.0       42090019100N      191.0           2\n",
      "2419.0      21010009500N      95.0            2\n",
      "dtype: int64\n",
      "2012 \n",
      " station_id  route_identifier  route_number\n",
      "170.0       40020007600E      76.0            2\n",
      "279.0       15070003600E      36.0            2\n",
      "329.0       22070039100N      391.0           2\n",
      "331.0       11070020900N      209.0           2\n",
      "            22070039100N      391.0           2\n",
      "333.0       22070039100N      878.0           2\n",
      "384.0       42070006400E      64.0            3\n",
      "407.0       10070039300N      393.0           2\n",
      "435.0       10070086300N      863.0           2\n",
      "485.0       21070035400E      354.0           2\n",
      "515.0       07070033300N      333.0           2\n",
      "653.0       04090031000E      310.0           2\n",
      "2419.0      21010009500N      95.0            2\n",
      "dtype: int64\n",
      "2011 \n",
      " station_id  route_identifier  route_number\n",
      "100.0       01040018500N      185.0           2\n",
      "            04020002900N      29.0            2\n",
      "            08020001702N      17.0            2\n",
      "            15020001500N      15.0            2\n",
      "            23020017600E      176.0           2\n",
      "                                             ..\n",
      "2520.0      08010052600E      526.0           2\n",
      "2521.0      10010052600W      526.0           2\n",
      "2601.0      02010052000E      520.0           4\n",
      "2603.0      02010052000E      520.0           2\n",
      "2605.0      02010052000E      520.0           2\n",
      "Length: 11242, dtype: int64\n",
      "2014 \n",
      " station_id  route_identifier  route_number\n",
      "101.0       13020000100N      1.0             2\n",
      "113.0       36070064200E      642.0           2\n",
      "127.0       46070011800E      118.0           2\n",
      "133.0       28020000100N      1.0             2\n",
      "160.0       32070016200E      162.0           2\n",
      "                                             ..\n",
      "956.0       42070103800E      1038.0          2\n",
      "969.0       42090019100N      191.0           3\n",
      "989.0       42090048900N      489.0           2\n",
      "1037.0      42090098900N      989.0           2\n",
      "2419.0      21010009500N      95.0            2\n",
      "Length: 102, dtype: int64\n"
     ]
    }
   ],
   "source": [
    "# records should be unique across station_id, route_identifier, and route_number - do some verification\n",
    "for year, df in shp_dfs_renamed.items():\n",
    "    temp_df = df.groupby(['station_id', 'route_identifier', 'route_number']).size()\n",
    "    print(year,'\\n', temp_df.loc[temp_df > 1.0])"
   ]
  },
  {
   "cell_type": "code",
   "execution_count": 278,
   "metadata": {},
   "outputs": [
    {
     "data": {
      "text/html": [
       "<div>\n",
       "<style scoped>\n",
       "    .dataframe tbody tr th:only-of-type {\n",
       "        vertical-align: middle;\n",
       "    }\n",
       "\n",
       "    .dataframe tbody tr th {\n",
       "        vertical-align: top;\n",
       "    }\n",
       "\n",
       "    .dataframe thead th {\n",
       "        text-align: right;\n",
       "    }\n",
       "</style>\n",
       "<table border=\"1\" class=\"dataframe\">\n",
       "  <thead>\n",
       "    <tr style=\"text-align: right;\">\n",
       "      <th></th>\n",
       "      <th>station_id</th>\n",
       "      <th>route_identifier</th>\n",
       "      <th>row_number</th>\n",
       "      <th>latitude</th>\n",
       "      <th>longitude</th>\n",
       "      <th>county_name</th>\n",
       "      <th>route_type</th>\n",
       "      <th>route_number</th>\n",
       "      <th>route_leg_descrip</th>\n",
       "      <th>year</th>\n",
       "      <th>average_daily_traffic</th>\n",
       "    </tr>\n",
       "  </thead>\n",
       "  <tbody>\n",
       "    <tr>\n",
       "      <td>10190</td>\n",
       "      <td>969.0</td>\n",
       "      <td>42090019100N</td>\n",
       "      <td>6535</td>\n",
       "      <td>35:1:59.272</td>\n",
       "      <td>-81:55:35.874</td>\n",
       "      <td>Spartanburg</td>\n",
       "      <td>S-</td>\n",
       "      <td>191.0</td>\n",
       "      <td>S- 191, S- 781 TO S- 56</td>\n",
       "      <td>2014.0</td>\n",
       "      <td>1450</td>\n",
       "    </tr>\n",
       "    <tr>\n",
       "      <td>10191</td>\n",
       "      <td>969.0</td>\n",
       "      <td>42090019100N</td>\n",
       "      <td>6535</td>\n",
       "      <td>35:1:59.272</td>\n",
       "      <td>-81:55:35.874</td>\n",
       "      <td>Spartanburg</td>\n",
       "      <td>L-</td>\n",
       "      <td>191.0</td>\n",
       "      <td>S- 191, S- 781 TO S- 56</td>\n",
       "      <td>2014.0</td>\n",
       "      <td>1450</td>\n",
       "    </tr>\n",
       "    <tr>\n",
       "      <td>10192</td>\n",
       "      <td>969.0</td>\n",
       "      <td>42090019100N</td>\n",
       "      <td>6535</td>\n",
       "      <td>35:1:59.272</td>\n",
       "      <td>-81:55:35.874</td>\n",
       "      <td>Spartanburg</td>\n",
       "      <td>L-</td>\n",
       "      <td>191.0</td>\n",
       "      <td>S- 191, S- 781 TO S- 56</td>\n",
       "      <td>2014.0</td>\n",
       "      <td>1450</td>\n",
       "    </tr>\n",
       "  </tbody>\n",
       "</table>\n",
       "</div>"
      ],
      "text/plain": [
       "       station_id route_identifier  row_number     latitude      longitude  \\\n",
       "10190       969.0     42090019100N        6535  35:1:59.272  -81:55:35.874   \n",
       "10191       969.0     42090019100N        6535  35:1:59.272  -81:55:35.874   \n",
       "10192       969.0     42090019100N        6535  35:1:59.272  -81:55:35.874   \n",
       "\n",
       "       county_name route_type  route_number        route_leg_descrip    year  \\\n",
       "10190  Spartanburg         S-         191.0  S- 191, S- 781 TO S- 56  2014.0   \n",
       "10191  Spartanburg         L-         191.0  S- 191, S- 781 TO S- 56  2014.0   \n",
       "10192  Spartanburg         L-         191.0  S- 191, S- 781 TO S- 56  2014.0   \n",
       "\n",
       "       average_daily_traffic  \n",
       "10190                   1450  \n",
       "10191                   1450  \n",
       "10192                   1450  "
      ]
     },
     "execution_count": 278,
     "metadata": {},
     "output_type": "execute_result"
    }
   ],
   "source": [
    "# we can spot check some of these to see what's up with the records\n",
    "def check_records(year, station_id, route_identifier):\n",
    "    mask = (shp_dfs_renamed[year]['station_id'] == station_id) & (shp_dfs_renamed[year]['route_identifier'] == route_identifier)\n",
    "    return shp_dfs_renamed[year].loc[mask]\n",
    "\n",
    "check_records('2014', 969.0, '42090019100N')"
   ]
  },
  {
   "cell_type": "code",
   "execution_count": 279,
   "metadata": {},
   "outputs": [],
   "source": [
    "# eyeballing the records reveals that they are duplicated rows. we'll take the first from every group\n",
    "for year, df in shp_dfs_renamed.items():\n",
    "    temp_df = df.groupby(['station_id', 'route_identifier', 'route_number']).head(1)\n",
    "    shp_dfs_renamed[year] = temp_df"
   ]
  },
  {
   "cell_type": "code",
   "execution_count": 280,
   "metadata": {},
   "outputs": [
    {
     "name": "stdout",
     "output_type": "stream",
     "text": [
      "2018 \n",
      " Series([], dtype: int64)\n",
      "2013 \n",
      " Series([], dtype: int64)\n",
      "2010 \n",
      " Series([], dtype: int64)\n",
      "2016 \n",
      " Series([], dtype: int64)\n",
      "2015 \n",
      " Series([], dtype: int64)\n",
      "2009 \n",
      " Series([], dtype: int64)\n",
      "2017 \n",
      " Series([], dtype: int64)\n",
      "2012 \n",
      " Series([], dtype: int64)\n",
      "2011 \n",
      " Series([], dtype: int64)\n",
      "2014 \n",
      " Series([], dtype: int64)\n"
     ]
    }
   ],
   "source": [
    "#check for dupes again\n",
    "for year, df in shp_dfs_renamed.items():\n",
    "    temp_df = df.groupby(['station_id', 'route_identifier', 'route_number']).size()\n",
    "    print(year,'\\n', temp_df.loc[temp_df > 1.0])"
   ]
  },
  {
   "cell_type": "code",
   "execution_count": 281,
   "metadata": {},
   "outputs": [
    {
     "data": {
      "text/html": [
       "<div>\n",
       "<style scoped>\n",
       "    .dataframe tbody tr th:only-of-type {\n",
       "        vertical-align: middle;\n",
       "    }\n",
       "\n",
       "    .dataframe tbody tr th {\n",
       "        vertical-align: top;\n",
       "    }\n",
       "\n",
       "    .dataframe thead th {\n",
       "        text-align: right;\n",
       "    }\n",
       "</style>\n",
       "<table border=\"1\" class=\"dataframe\">\n",
       "  <thead>\n",
       "    <tr style=\"text-align: right;\">\n",
       "      <th></th>\n",
       "      <th>station_id</th>\n",
       "      <th>route_identifier</th>\n",
       "      <th>row_number</th>\n",
       "      <th>latitude</th>\n",
       "      <th>longitude</th>\n",
       "      <th>county_name</th>\n",
       "      <th>route_type</th>\n",
       "      <th>route_number</th>\n",
       "      <th>route_leg_descrip</th>\n",
       "      <th>year</th>\n",
       "      <th>average_daily_traffic</th>\n",
       "    </tr>\n",
       "  </thead>\n",
       "  <tbody>\n",
       "    <tr>\n",
       "      <td>10190</td>\n",
       "      <td>969.0</td>\n",
       "      <td>42090019100N</td>\n",
       "      <td>6535</td>\n",
       "      <td>35:1:59.272</td>\n",
       "      <td>-81:55:35.874</td>\n",
       "      <td>Spartanburg</td>\n",
       "      <td>S-</td>\n",
       "      <td>191.0</td>\n",
       "      <td>S- 191, S- 781 TO S- 56</td>\n",
       "      <td>2014.0</td>\n",
       "      <td>1450</td>\n",
       "    </tr>\n",
       "  </tbody>\n",
       "</table>\n",
       "</div>"
      ],
      "text/plain": [
       "       station_id route_identifier  row_number     latitude      longitude  \\\n",
       "10190       969.0     42090019100N        6535  35:1:59.272  -81:55:35.874   \n",
       "\n",
       "       county_name route_type  route_number        route_leg_descrip    year  \\\n",
       "10190  Spartanburg         S-         191.0  S- 191, S- 781 TO S- 56  2014.0   \n",
       "\n",
       "       average_daily_traffic  \n",
       "10190                   1450  "
      ]
     },
     "execution_count": 281,
     "metadata": {},
     "output_type": "execute_result"
    }
   ],
   "source": [
    "# verify we took the first row in the duplicated group\n",
    "check_records('2014', 969.0, '42090019100N')"
   ]
  },
  {
   "cell_type": "code",
   "execution_count": 282,
   "metadata": {},
   "outputs": [],
   "source": [
    "# set index of all dfs to the unique identifiers\n",
    "for year, df in shp_dfs_renamed.items():\n",
    "    temp_df = df.set_index(['station_id', 'route_identifier', 'route_number'])\n",
    "    shp_dfs_renamed[year] = temp_df"
   ]
  },
  {
   "cell_type": "code",
   "execution_count": 283,
   "metadata": {},
   "outputs": [
    {
     "data": {
      "text/plain": [
       "county_name                0\n",
       "route_type                 0\n",
       "route_leg_descrip          0\n",
       "average_daily_traffic      0\n",
       "year                       0\n",
       "row_number                 0\n",
       "latitude                 179\n",
       "longitude                179\n",
       "dtype: int64"
      ]
     },
     "execution_count": 283,
     "metadata": {},
     "output_type": "execute_result"
    }
   ],
   "source": [
    "shp_dfs_renamed['2016'].isna().sum()"
   ]
  },
  {
   "cell_type": "code",
   "execution_count": 284,
   "metadata": {},
   "outputs": [],
   "source": [
    "# update 2016 latitudes/longitudes with 2018 latitudes/longitudes\n",
    "\n",
    "shp_dfs_renamed['2016'].update(shp_dfs_renamed['2018'][['latitude', 'longitude']])\n",
    "\n",
    "# still some nulls - try the 2015 df\n",
    "shp_dfs_renamed['2016'].update(shp_dfs_renamed['2015'][['latitude', 'longitude']])"
   ]
  },
  {
   "cell_type": "code",
   "execution_count": 285,
   "metadata": {},
   "outputs": [
    {
     "data": {
      "text/plain": [
       "county_name                0\n",
       "route_type                 0\n",
       "route_leg_descrip          0\n",
       "average_daily_traffic      0\n",
       "year                       0\n",
       "row_number                 0\n",
       "latitude                 153\n",
       "longitude                153\n",
       "dtype: int64"
      ]
     },
     "execution_count": 285,
     "metadata": {},
     "output_type": "execute_result"
    }
   ],
   "source": [
    "shp_dfs_renamed['2016'].isna().sum()"
   ]
  },
  {
   "cell_type": "code",
   "execution_count": 303,
   "metadata": {},
   "outputs": [],
   "source": [
    "# 2018 and 2017 dfs don't have all the columns, so use the 2016 df to standardize fields\n",
    "cols_to_update = ['route_type', 'route_leg_descrip', 'latitude', 'longitude']\n",
    "update_df = shp_dfs_renamed['2016'][cols_to_update]\n",
    "\n",
    "for year, df in shp_dfs_renamed.items():\n",
    "    df.update(update_df)"
   ]
  },
  {
   "cell_type": "code",
   "execution_count": 336,
   "metadata": {},
   "outputs": [],
   "source": [
    "# stack all the data frames together\n",
    "traffic_df = pd.concat(shp_dfs_renamed.values(), sort=True, axis=0).reset_index()"
   ]
  },
  {
   "cell_type": "code",
   "execution_count": 337,
   "metadata": {},
   "outputs": [
    {
     "data": {
      "text/html": [
       "<div>\n",
       "<style scoped>\n",
       "    .dataframe tbody tr th:only-of-type {\n",
       "        vertical-align: middle;\n",
       "    }\n",
       "\n",
       "    .dataframe tbody tr th {\n",
       "        vertical-align: top;\n",
       "    }\n",
       "\n",
       "    .dataframe thead th {\n",
       "        text-align: right;\n",
       "    }\n",
       "</style>\n",
       "<table border=\"1\" class=\"dataframe\">\n",
       "  <thead>\n",
       "    <tr style=\"text-align: right;\">\n",
       "      <th></th>\n",
       "      <th>station_id</th>\n",
       "      <th>route_identifier</th>\n",
       "      <th>route_number</th>\n",
       "      <th>average_daily_traffic</th>\n",
       "      <th>county_id</th>\n",
       "      <th>county_name</th>\n",
       "      <th>latitude</th>\n",
       "      <th>longitude</th>\n",
       "      <th>route_leg_descrip</th>\n",
       "      <th>route_type</th>\n",
       "      <th>route_type_id</th>\n",
       "      <th>row_number</th>\n",
       "      <th>year</th>\n",
       "    </tr>\n",
       "  </thead>\n",
       "  <tbody>\n",
       "    <tr>\n",
       "      <td>0</td>\n",
       "      <td>101.0</td>\n",
       "      <td>01020017800E</td>\n",
       "      <td>178.0</td>\n",
       "      <td>4300.0</td>\n",
       "      <td>NaN</td>\n",
       "      <td>ABBEVILLE</td>\n",
       "      <td>34.41979</td>\n",
       "      <td>-82.38521</td>\n",
       "      <td>County Line - ANDERSON TO S- 166 (DRAKE RD)</td>\n",
       "      <td>NaN</td>\n",
       "      <td>2.0</td>\n",
       "      <td>1</td>\n",
       "      <td>2018.0</td>\n",
       "    </tr>\n",
       "    <tr>\n",
       "      <td>1</td>\n",
       "      <td>103.0</td>\n",
       "      <td>01020017800E</td>\n",
       "      <td>178.0</td>\n",
       "      <td>4600.0</td>\n",
       "      <td>NaN</td>\n",
       "      <td>ABBEVILLE</td>\n",
       "      <td>34.38344</td>\n",
       "      <td>-82.35325</td>\n",
       "      <td>S- 166 (DRAKE RD) TO SC 184 (N MAIN ST)</td>\n",
       "      <td>NaN</td>\n",
       "      <td>2.0</td>\n",
       "      <td>2</td>\n",
       "      <td>2018.0</td>\n",
       "    </tr>\n",
       "    <tr>\n",
       "      <td>2</td>\n",
       "      <td>105.0</td>\n",
       "      <td>01020017800E</td>\n",
       "      <td>178.0</td>\n",
       "      <td>3600.0</td>\n",
       "      <td>NaN</td>\n",
       "      <td>ABBEVILLE</td>\n",
       "      <td>34.37099</td>\n",
       "      <td>-82.33765</td>\n",
       "      <td>SC 184 (N MAIN ST) TO County Line - GREENWOOD</td>\n",
       "      <td>NaN</td>\n",
       "      <td>2.0</td>\n",
       "      <td>3</td>\n",
       "      <td>2018.0</td>\n",
       "    </tr>\n",
       "    <tr>\n",
       "      <td>3</td>\n",
       "      <td>109.0</td>\n",
       "      <td>01040002000E</td>\n",
       "      <td>20.0</td>\n",
       "      <td>4900.0</td>\n",
       "      <td>NaN</td>\n",
       "      <td>ABBEVILLE</td>\n",
       "      <td>34.17888</td>\n",
       "      <td>-82.38016</td>\n",
       "      <td>SC 203 (WASHINGTON ST), L- 20, L- 980 TO SC 71</td>\n",
       "      <td>NaN</td>\n",
       "      <td>4.0</td>\n",
       "      <td>4</td>\n",
       "      <td>2018.0</td>\n",
       "    </tr>\n",
       "    <tr>\n",
       "      <td>4</td>\n",
       "      <td>111.0</td>\n",
       "      <td>01040002000E</td>\n",
       "      <td>20.0</td>\n",
       "      <td>2200.0</td>\n",
       "      <td>NaN</td>\n",
       "      <td>ABBEVILLE</td>\n",
       "      <td>34.18359</td>\n",
       "      <td>-82.38115</td>\n",
       "      <td>SC 71 TO L- 170</td>\n",
       "      <td>NaN</td>\n",
       "      <td>4.0</td>\n",
       "      <td>5</td>\n",
       "      <td>2018.0</td>\n",
       "    </tr>\n",
       "  </tbody>\n",
       "</table>\n",
       "</div>"
      ],
      "text/plain": [
       "   station_id route_identifier  route_number  average_daily_traffic  \\\n",
       "0       101.0     01020017800E         178.0                 4300.0   \n",
       "1       103.0     01020017800E         178.0                 4600.0   \n",
       "2       105.0     01020017800E         178.0                 3600.0   \n",
       "3       109.0     01040002000E          20.0                 4900.0   \n",
       "4       111.0     01040002000E          20.0                 2200.0   \n",
       "\n",
       "   county_id county_name  latitude  longitude  \\\n",
       "0        NaN   ABBEVILLE  34.41979  -82.38521   \n",
       "1        NaN   ABBEVILLE  34.38344  -82.35325   \n",
       "2        NaN   ABBEVILLE  34.37099  -82.33765   \n",
       "3        NaN   ABBEVILLE  34.17888  -82.38016   \n",
       "4        NaN   ABBEVILLE  34.18359  -82.38115   \n",
       "\n",
       "                                route_leg_descrip route_type  route_type_id  \\\n",
       "0     County Line - ANDERSON TO S- 166 (DRAKE RD)        NaN            2.0   \n",
       "1         S- 166 (DRAKE RD) TO SC 184 (N MAIN ST)        NaN            2.0   \n",
       "2   SC 184 (N MAIN ST) TO County Line - GREENWOOD        NaN            2.0   \n",
       "3  SC 203 (WASHINGTON ST), L- 20, L- 980 TO SC 71        NaN            4.0   \n",
       "4                                 SC 71 TO L- 170        NaN            4.0   \n",
       "\n",
       "   row_number    year  \n",
       "0           1  2018.0  \n",
       "1           2  2018.0  \n",
       "2           3  2018.0  \n",
       "3           4  2018.0  \n",
       "4           5  2018.0  "
      ]
     },
     "execution_count": 337,
     "metadata": {},
     "output_type": "execute_result"
    }
   ],
   "source": [
    "# eyeball the data \n",
    "traffic_df.head()"
   ]
  },
  {
   "cell_type": "code",
   "execution_count": 338,
   "metadata": {},
   "outputs": [],
   "source": [
    "# drop columns I actually don't want\n",
    "traffic_df = traffic_df.drop(['county_id', 'route_type_id', 'row_number'], axis=1)"
   ]
  },
  {
   "cell_type": "code",
   "execution_count": 339,
   "metadata": {},
   "outputs": [
    {
     "data": {
      "text/html": [
       "<div>\n",
       "<style scoped>\n",
       "    .dataframe tbody tr th:only-of-type {\n",
       "        vertical-align: middle;\n",
       "    }\n",
       "\n",
       "    .dataframe tbody tr th {\n",
       "        vertical-align: top;\n",
       "    }\n",
       "\n",
       "    .dataframe thead th {\n",
       "        text-align: right;\n",
       "    }\n",
       "</style>\n",
       "<table border=\"1\" class=\"dataframe\">\n",
       "  <thead>\n",
       "    <tr style=\"text-align: right;\">\n",
       "      <th></th>\n",
       "      <th>station_id</th>\n",
       "      <th>route_identifier</th>\n",
       "      <th>route_number</th>\n",
       "      <th>average_daily_traffic</th>\n",
       "      <th>county_name</th>\n",
       "      <th>latitude</th>\n",
       "      <th>longitude</th>\n",
       "      <th>route_leg_descrip</th>\n",
       "      <th>route_type</th>\n",
       "      <th>year</th>\n",
       "    </tr>\n",
       "  </thead>\n",
       "  <tbody>\n",
       "    <tr>\n",
       "      <td>0</td>\n",
       "      <td>101.0</td>\n",
       "      <td>01020017800E</td>\n",
       "      <td>178.0</td>\n",
       "      <td>4300.0</td>\n",
       "      <td>ABBEVILLE</td>\n",
       "      <td>34.41979</td>\n",
       "      <td>-82.38521</td>\n",
       "      <td>County Line - ANDERSON TO S- 166 (DRAKE RD)</td>\n",
       "      <td>NaN</td>\n",
       "      <td>2018.0</td>\n",
       "    </tr>\n",
       "    <tr>\n",
       "      <td>1</td>\n",
       "      <td>103.0</td>\n",
       "      <td>01020017800E</td>\n",
       "      <td>178.0</td>\n",
       "      <td>4600.0</td>\n",
       "      <td>ABBEVILLE</td>\n",
       "      <td>34.38344</td>\n",
       "      <td>-82.35325</td>\n",
       "      <td>S- 166 (DRAKE RD) TO SC 184 (N MAIN ST)</td>\n",
       "      <td>NaN</td>\n",
       "      <td>2018.0</td>\n",
       "    </tr>\n",
       "    <tr>\n",
       "      <td>2</td>\n",
       "      <td>105.0</td>\n",
       "      <td>01020017800E</td>\n",
       "      <td>178.0</td>\n",
       "      <td>3600.0</td>\n",
       "      <td>ABBEVILLE</td>\n",
       "      <td>34.37099</td>\n",
       "      <td>-82.33765</td>\n",
       "      <td>SC 184 (N MAIN ST) TO County Line - GREENWOOD</td>\n",
       "      <td>NaN</td>\n",
       "      <td>2018.0</td>\n",
       "    </tr>\n",
       "    <tr>\n",
       "      <td>3</td>\n",
       "      <td>109.0</td>\n",
       "      <td>01040002000E</td>\n",
       "      <td>20.0</td>\n",
       "      <td>4900.0</td>\n",
       "      <td>ABBEVILLE</td>\n",
       "      <td>34.17888</td>\n",
       "      <td>-82.38016</td>\n",
       "      <td>SC 203 (WASHINGTON ST), L- 20, L- 980 TO SC 71</td>\n",
       "      <td>NaN</td>\n",
       "      <td>2018.0</td>\n",
       "    </tr>\n",
       "    <tr>\n",
       "      <td>4</td>\n",
       "      <td>111.0</td>\n",
       "      <td>01040002000E</td>\n",
       "      <td>20.0</td>\n",
       "      <td>2200.0</td>\n",
       "      <td>ABBEVILLE</td>\n",
       "      <td>34.18359</td>\n",
       "      <td>-82.38115</td>\n",
       "      <td>SC 71 TO L- 170</td>\n",
       "      <td>NaN</td>\n",
       "      <td>2018.0</td>\n",
       "    </tr>\n",
       "  </tbody>\n",
       "</table>\n",
       "</div>"
      ],
      "text/plain": [
       "   station_id route_identifier  route_number  average_daily_traffic  \\\n",
       "0       101.0     01020017800E         178.0                 4300.0   \n",
       "1       103.0     01020017800E         178.0                 4600.0   \n",
       "2       105.0     01020017800E         178.0                 3600.0   \n",
       "3       109.0     01040002000E          20.0                 4900.0   \n",
       "4       111.0     01040002000E          20.0                 2200.0   \n",
       "\n",
       "  county_name  latitude  longitude  \\\n",
       "0   ABBEVILLE  34.41979  -82.38521   \n",
       "1   ABBEVILLE  34.38344  -82.35325   \n",
       "2   ABBEVILLE  34.37099  -82.33765   \n",
       "3   ABBEVILLE  34.17888  -82.38016   \n",
       "4   ABBEVILLE  34.18359  -82.38115   \n",
       "\n",
       "                                route_leg_descrip route_type    year  \n",
       "0     County Line - ANDERSON TO S- 166 (DRAKE RD)        NaN  2018.0  \n",
       "1         S- 166 (DRAKE RD) TO SC 184 (N MAIN ST)        NaN  2018.0  \n",
       "2   SC 184 (N MAIN ST) TO County Line - GREENWOOD        NaN  2018.0  \n",
       "3  SC 203 (WASHINGTON ST), L- 20, L- 980 TO SC 71        NaN  2018.0  \n",
       "4                                 SC 71 TO L- 170        NaN  2018.0  "
      ]
     },
     "execution_count": 339,
     "metadata": {},
     "output_type": "execute_result"
    }
   ],
   "source": [
    "traffic_df.head()"
   ]
  },
  {
   "cell_type": "code",
   "execution_count": 340,
   "metadata": {},
   "outputs": [],
   "source": [
    "# now fill in cols that are still na by unique id - not the average traffic column\n",
    "cols_to_fill = ['county_name', 'latitude', 'longitude', 'route_leg_descrip', 'route_type']\n",
    "for col in cols_to_fill:\n",
    "    traffic_df[col] = traffic_df.groupby(['station_id', 'route_identifier', 'route_number'])[col].ffill().bfill()"
   ]
  },
  {
   "cell_type": "code",
   "execution_count": 341,
   "metadata": {},
   "outputs": [
    {
     "data": {
      "text/plain": [
       "station_id                0\n",
       "route_identifier          0\n",
       "route_number              0\n",
       "average_daily_traffic    69\n",
       "county_name               0\n",
       "latitude                  0\n",
       "longitude                 0\n",
       "route_leg_descrip         0\n",
       "route_type                0\n",
       "year                     16\n",
       "dtype: int64"
      ]
     },
     "execution_count": 341,
     "metadata": {},
     "output_type": "execute_result"
    }
   ],
   "source": [
    "# check for any nas remaining\n",
    "traffic_df.isna().sum()"
   ]
  },
  {
   "cell_type": "code",
   "execution_count": 342,
   "metadata": {},
   "outputs": [],
   "source": [
    "# drop remaining nas\n",
    "traffic_df = traffic_df.dropna()"
   ]
  },
  {
   "cell_type": "code",
   "execution_count": 343,
   "metadata": {},
   "outputs": [],
   "source": [
    "# get the pct change year over year for average daily traffic\n",
    "traffic_df['traffic_yearly_pct_change'] = traffic_df \\\n",
    "    .sort_values(['station_id', 'route_identifier', 'route_number', 'year']) \\\n",
    "    .groupby(['station_id', 'route_identifier', 'route_number']) \\\n",
    "    .average_daily_traffic \\\n",
    "    .pct_change()"
   ]
  },
  {
   "cell_type": "code",
   "execution_count": 366,
   "metadata": {},
   "outputs": [],
   "source": [
    "traffic_df = traffic_df.sort_values(['station_id', 'route_identifier', 'route_number', 'year'])"
   ]
  },
  {
   "cell_type": "code",
   "execution_count": 367,
   "metadata": {},
   "outputs": [
    {
     "data": {
      "text/html": [
       "<div>\n",
       "<style scoped>\n",
       "    .dataframe tbody tr th:only-of-type {\n",
       "        vertical-align: middle;\n",
       "    }\n",
       "\n",
       "    .dataframe tbody tr th {\n",
       "        vertical-align: top;\n",
       "    }\n",
       "\n",
       "    .dataframe thead th {\n",
       "        text-align: right;\n",
       "    }\n",
       "</style>\n",
       "<table border=\"1\" class=\"dataframe\">\n",
       "  <thead>\n",
       "    <tr style=\"text-align: right;\">\n",
       "      <th></th>\n",
       "      <th>station_id</th>\n",
       "      <th>route_identifier</th>\n",
       "      <th>route_number</th>\n",
       "      <th>average_daily_traffic</th>\n",
       "      <th>county_name</th>\n",
       "      <th>latitude</th>\n",
       "      <th>longitude</th>\n",
       "      <th>route_leg_descrip</th>\n",
       "      <th>route_type</th>\n",
       "      <th>year</th>\n",
       "      <th>traffic_yearly_pct_change</th>\n",
       "    </tr>\n",
       "  </thead>\n",
       "  <tbody>\n",
       "    <tr>\n",
       "      <td>46233</td>\n",
       "      <td>100.0</td>\n",
       "      <td>04020002900N</td>\n",
       "      <td>29.0</td>\n",
       "      <td>4000.0</td>\n",
       "      <td>Anderson</td>\n",
       "      <td>34.35590</td>\n",
       "      <td>-82.81412</td>\n",
       "      <td>State Line - GEORGIA TO SC 187 (HIGHWAY 187  S)</td>\n",
       "      <td>US</td>\n",
       "      <td>2015.0</td>\n",
       "      <td>0.290323</td>\n",
       "    </tr>\n",
       "    <tr>\n",
       "      <td>69591</td>\n",
       "      <td>100.0</td>\n",
       "      <td>08020001702N</td>\n",
       "      <td>17.0</td>\n",
       "      <td>53100.0</td>\n",
       "      <td>Berkeley</td>\n",
       "      <td>33.03701</td>\n",
       "      <td>-80.15366</td>\n",
       "      <td>County Line - DORCHESTER TO I- 26</td>\n",
       "      <td>US</td>\n",
       "      <td>2017.0</td>\n",
       "      <td>0.288835</td>\n",
       "    </tr>\n",
       "    <tr>\n",
       "      <td>107798</td>\n",
       "      <td>100.0</td>\n",
       "      <td>28040001200E</td>\n",
       "      <td>12.0</td>\n",
       "      <td>4100.0</td>\n",
       "      <td>Kershaw</td>\n",
       "      <td>34.11999</td>\n",
       "      <td>-80.77968</td>\n",
       "      <td>County Line - RICHLAND TO S- 47 (FORT JACKSON RD)</td>\n",
       "      <td>SC</td>\n",
       "      <td>2014.0</td>\n",
       "      <td>0.413793</td>\n",
       "    </tr>\n",
       "    <tr>\n",
       "      <td>46234</td>\n",
       "      <td>101.0</td>\n",
       "      <td>04020002900N</td>\n",
       "      <td>29.0</td>\n",
       "      <td>2100.0</td>\n",
       "      <td>Anderson</td>\n",
       "      <td>34.40918</td>\n",
       "      <td>-82.79075</td>\n",
       "      <td>SC 187 (HIGHWAY 187  S) TO US 29 BUS (HIGHWAY ...</td>\n",
       "      <td>US</td>\n",
       "      <td>2015.0</td>\n",
       "      <td>0.312500</td>\n",
       "    </tr>\n",
       "    <tr>\n",
       "      <td>35341</td>\n",
       "      <td>101.0</td>\n",
       "      <td>07020001700N</td>\n",
       "      <td>17.0</td>\n",
       "      <td>12400.0</td>\n",
       "      <td>BEAUFORT</td>\n",
       "      <td>32.64004</td>\n",
       "      <td>-80.85637</td>\n",
       "      <td>County Line - JASPER TO US 17 ALT (CASTLE HALL...</td>\n",
       "      <td>US</td>\n",
       "      <td>2016.0</td>\n",
       "      <td>0.441860</td>\n",
       "    </tr>\n",
       "    <tr>\n",
       "      <td>...</td>\n",
       "      <td>...</td>\n",
       "      <td>...</td>\n",
       "      <td>...</td>\n",
       "      <td>...</td>\n",
       "      <td>...</td>\n",
       "      <td>...</td>\n",
       "      <td>...</td>\n",
       "      <td>...</td>\n",
       "      <td>...</td>\n",
       "      <td>...</td>\n",
       "      <td>...</td>\n",
       "    </tr>\n",
       "    <tr>\n",
       "      <td>50606</td>\n",
       "      <td>2435.0</td>\n",
       "      <td>23010018500N</td>\n",
       "      <td>185.0</td>\n",
       "      <td>5000.0</td>\n",
       "      <td>Greenville</td>\n",
       "      <td>34.77331</td>\n",
       "      <td>-82.44549</td>\n",
       "      <td>SC 153 (153 HWY) TO I- 85</td>\n",
       "      <td>I-</td>\n",
       "      <td>2015.0</td>\n",
       "      <td>0.250000</td>\n",
       "    </tr>\n",
       "    <tr>\n",
       "      <td>95688</td>\n",
       "      <td>2439.0</td>\n",
       "      <td>23010018500N</td>\n",
       "      <td>185.0</td>\n",
       "      <td>16700.0</td>\n",
       "      <td>Greenville</td>\n",
       "      <td>34.80352</td>\n",
       "      <td>-82.42446</td>\n",
       "      <td>US 25 (WHITE HORSE RD) TO  , SC 20</td>\n",
       "      <td>I-</td>\n",
       "      <td>2011.0</td>\n",
       "      <td>0.590476</td>\n",
       "    </tr>\n",
       "    <tr>\n",
       "      <td>9245</td>\n",
       "      <td>2489.0</td>\n",
       "      <td>42010058500S</td>\n",
       "      <td>585.0</td>\n",
       "      <td>32200.0</td>\n",
       "      <td>SPARTANBURG</td>\n",
       "      <td>34.97494</td>\n",
       "      <td>-81.94188</td>\n",
       "      <td>US 176 CO2 (N CHURCH ST), SC 9 TO US 221 (WHIT...</td>\n",
       "      <td>SC</td>\n",
       "      <td>2018.0</td>\n",
       "      <td>0.201493</td>\n",
       "    </tr>\n",
       "    <tr>\n",
       "      <td>9246</td>\n",
       "      <td>2491.0</td>\n",
       "      <td>42010058500S</td>\n",
       "      <td>585.0</td>\n",
       "      <td>31200.0</td>\n",
       "      <td>SPARTANBURG</td>\n",
       "      <td>34.97158</td>\n",
       "      <td>-81.93761</td>\n",
       "      <td>US 221 (WHITNEY RD) TO US 176 (N PINE ST)</td>\n",
       "      <td>SC</td>\n",
       "      <td>2018.0</td>\n",
       "      <td>0.214008</td>\n",
       "    </tr>\n",
       "    <tr>\n",
       "      <td>46155</td>\n",
       "      <td>2607.0</td>\n",
       "      <td>02010052000E</td>\n",
       "      <td>520.0</td>\n",
       "      <td>10100.0</td>\n",
       "      <td>Aiken</td>\n",
       "      <td>33.56019</td>\n",
       "      <td>-81.92848</td>\n",
       "      <td>US 25 CON (US 25 CONNECTOR) TO I- 20</td>\n",
       "      <td>I-</td>\n",
       "      <td>2015.0</td>\n",
       "      <td>0.202381</td>\n",
       "    </tr>\n",
       "  </tbody>\n",
       "</table>\n",
       "<p>6200 rows × 11 columns</p>\n",
       "</div>"
      ],
      "text/plain": [
       "        station_id route_identifier  route_number  average_daily_traffic  \\\n",
       "46233        100.0     04020002900N          29.0                 4000.0   \n",
       "69591        100.0     08020001702N          17.0                53100.0   \n",
       "107798       100.0     28040001200E          12.0                 4100.0   \n",
       "46234        101.0     04020002900N          29.0                 2100.0   \n",
       "35341        101.0     07020001700N          17.0                12400.0   \n",
       "...            ...              ...           ...                    ...   \n",
       "50606       2435.0     23010018500N         185.0                 5000.0   \n",
       "95688       2439.0     23010018500N         185.0                16700.0   \n",
       "9245        2489.0     42010058500S         585.0                32200.0   \n",
       "9246        2491.0     42010058500S         585.0                31200.0   \n",
       "46155       2607.0     02010052000E         520.0                10100.0   \n",
       "\n",
       "        county_name  latitude  longitude  \\\n",
       "46233      Anderson  34.35590  -82.81412   \n",
       "69591      Berkeley  33.03701  -80.15366   \n",
       "107798      Kershaw  34.11999  -80.77968   \n",
       "46234      Anderson  34.40918  -82.79075   \n",
       "35341      BEAUFORT  32.64004  -80.85637   \n",
       "...             ...       ...        ...   \n",
       "50606    Greenville  34.77331  -82.44549   \n",
       "95688    Greenville  34.80352  -82.42446   \n",
       "9245    SPARTANBURG  34.97494  -81.94188   \n",
       "9246    SPARTANBURG  34.97158  -81.93761   \n",
       "46155         Aiken  33.56019  -81.92848   \n",
       "\n",
       "                                        route_leg_descrip route_type    year  \\\n",
       "46233     State Line - GEORGIA TO SC 187 (HIGHWAY 187  S)         US  2015.0   \n",
       "69591                   County Line - DORCHESTER TO I- 26         US  2017.0   \n",
       "107798  County Line - RICHLAND TO S- 47 (FORT JACKSON RD)         SC  2014.0   \n",
       "46234   SC 187 (HIGHWAY 187  S) TO US 29 BUS (HIGHWAY ...         US  2015.0   \n",
       "35341   County Line - JASPER TO US 17 ALT (CASTLE HALL...         US  2016.0   \n",
       "...                                                   ...        ...     ...   \n",
       "50606                           SC 153 (153 HWY) TO I- 85         I-  2015.0   \n",
       "95688                  US 25 (WHITE HORSE RD) TO  , SC 20         I-  2011.0   \n",
       "9245    US 176 CO2 (N CHURCH ST), SC 9 TO US 221 (WHIT...         SC  2018.0   \n",
       "9246            US 221 (WHITNEY RD) TO US 176 (N PINE ST)         SC  2018.0   \n",
       "46155                US 25 CON (US 25 CONNECTOR) TO I- 20         I-  2015.0   \n",
       "\n",
       "        traffic_yearly_pct_change  \n",
       "46233                    0.290323  \n",
       "69591                    0.288835  \n",
       "107798                   0.413793  \n",
       "46234                    0.312500  \n",
       "35341                    0.441860  \n",
       "...                           ...  \n",
       "50606                    0.250000  \n",
       "95688                    0.590476  \n",
       "9245                     0.201493  \n",
       "9246                     0.214008  \n",
       "46155                    0.202381  \n",
       "\n",
       "[6200 rows x 11 columns]"
      ]
     },
     "execution_count": 367,
     "metadata": {},
     "output_type": "execute_result"
    }
   ],
   "source": [
    "traffic_df[traffic_df['traffic_yearly_pct_change'] > 0.2]"
   ]
  },
  {
   "cell_type": "code",
   "execution_count": 68,
   "metadata": {},
   "outputs": [
    {
     "name": "stdout",
     "output_type": "stream",
     "text": [
      "34.41977541666666666666666667\n"
     ]
    }
   ],
   "source": [
    "longitude = \"34:25:11.1915\"\n",
    "long = longitude.split(':')\n",
    "dec_val = 0.0\n",
    "for idx, val in enumerate(long):\n",
    "    dec_val += abs(float(val)) / (60.0 ** idx)\n",
    "print(dec_val)"
   ]
  },
  {
   "cell_type": "code",
   "execution_count": 55,
   "metadata": {},
   "outputs": [
    {
     "data": {
      "text/plain": [
       "83.0"
      ]
     },
     "execution_count": 55,
     "metadata": {},
     "output_type": "execute_result"
    }
   ],
   "source": [
    "1 - float('-82') / (60.0 ** 0)"
   ]
  },
  {
   "cell_type": "code",
   "execution_count": 73,
   "metadata": {},
   "outputs": [],
   "source": [
    "def duplicated_varnames(df):\n",
    "    \"\"\"Return a dict of all variable names that \n",
    "    are duplicated in a given dataframe.\"\"\"\n",
    "    repeat_dict = {}\n",
    "    var_list = list(df) # list of varnames as strings\n",
    "    for varname in var_list:\n",
    "        # make a list of all instances of that varname\n",
    "        test_list = [v for v in var_list if v == varname] \n",
    "        # if more than one instance, report duplications in repeat_dict\n",
    "        if len(test_list) > 1: \n",
    "            repeat_dict[varname] = len(test_list)\n",
    "    return repeat_dict"
   ]
  },
  {
   "cell_type": "code",
   "execution_count": 74,
   "metadata": {},
   "outputs": [
    {
     "data": {
      "text/plain": [
       "[{}, {}, {}, {}, {}, {'station_id': 2}, {}, {}, {}, {}]"
      ]
     },
     "execution_count": 74,
     "metadata": {},
     "output_type": "execute_result"
    }
   ],
   "source": [
    "list(map(duplicated_varnames, shp_dfs_renamed))"
   ]
  },
  {
   "cell_type": "markdown",
   "metadata": {},
   "source": [
    "Multiple stations to route identifiers relationship - one state != one observed leg"
   ]
  },
  {
   "cell_type": "code",
   "execution_count": null,
   "metadata": {},
   "outputs": [],
   "source": []
  }
 ],
 "metadata": {
  "kernelspec": {
   "display_name": "generalprojects",
   "language": "python",
   "name": "generalprojects"
  },
  "language_info": {
   "codemirror_mode": {
    "name": "ipython",
    "version": 3
   },
   "file_extension": ".py",
   "mimetype": "text/x-python",
   "name": "python",
   "nbconvert_exporter": "python",
   "pygments_lexer": "ipython3",
   "version": "3.7.4"
  }
 },
 "nbformat": 4,
 "nbformat_minor": 4
}
